{
  "nbformat": 4,
  "nbformat_minor": 0,
  "metadata": {
    "colab": {
      "name": "metal_sheet.ipynb",
      "provenance": [],
      "authorship_tag": "ABX9TyPKY+2SOQvmXGnqneBPUk1s",
      "include_colab_link": true
    },
    "kernelspec": {
      "name": "python3",
      "display_name": "Python 3"
    }
  },
  "cells": [
    {
      "cell_type": "markdown",
      "metadata": {
        "id": "view-in-github",
        "colab_type": "text"
      },
      "source": [
        "<a href=\"https://colab.research.google.com/github/simay1224/14PuzzleProblem/blob/master/metal_sheet.ipynb\" target=\"_parent\"><img src=\"https://colab.research.google.com/assets/colab-badge.svg\" alt=\"Open In Colab\"/></a>"
      ]
    },
    {
      "cell_type": "code",
      "metadata": {
        "id": "qjmkfL6sRF0-",
        "colab_type": "code",
        "colab": {}
      },
      "source": [
        ""
      ],
      "execution_count": 0,
      "outputs": []
    },
    {
      "cell_type": "markdown",
      "metadata": {
        "id": "QB2JBHAITj4M",
        "colab_type": "text"
      },
      "source": [
        "Set up environment\n"
      ]
    },
    {
      "cell_type": "code",
      "metadata": {
        "id": "tbsKiL68TmWV",
        "colab_type": "code",
        "colab": {
          "base_uri": "https://localhost:8080/",
          "height": 1000
        },
        "outputId": "9b444534-961f-48f7-dd6e-8a806be515e2"
      },
      "source": [
        "!apt-get install protobuf-compiler python-pil python-lxml python-tk"
      ],
      "execution_count": 1,
      "outputs": [
        {
          "output_type": "stream",
          "text": [
            "Reading package lists... Done\n",
            "Building dependency tree       \n",
            "Reading state information... Done\n",
            "protobuf-compiler is already the newest version (3.0.0-9.1ubuntu1).\n",
            "python-tk is already the newest version (2.7.17-1~18.04).\n",
            "The following additional packages will be installed:\n",
            "  python-bs4 python-chardet python-html5lib python-olefile\n",
            "  python-pkg-resources python-six python-webencodings\n",
            "Suggested packages:\n",
            "  python-genshi python-lxml-dbg python-lxml-doc python-pil-doc python-pil-dbg\n",
            "  python-setuptools\n",
            "The following NEW packages will be installed:\n",
            "  python-bs4 python-chardet python-html5lib python-lxml python-olefile\n",
            "  python-pil python-pkg-resources python-six python-webencodings\n",
            "0 upgraded, 9 newly installed, 0 to remove and 32 not upgraded.\n",
            "Need to get 1,818 kB of archives.\n",
            "After this operation, 7,685 kB of additional disk space will be used.\n",
            "Get:1 http://archive.ubuntu.com/ubuntu bionic/main amd64 python-bs4 all 4.6.0-1 [67.9 kB]\n",
            "Get:2 http://archive.ubuntu.com/ubuntu bionic/main amd64 python-pkg-resources all 39.0.1-2 [128 kB]\n",
            "Get:3 http://archive.ubuntu.com/ubuntu bionic/main amd64 python-chardet all 3.0.4-1 [80.3 kB]\n",
            "Get:4 http://archive.ubuntu.com/ubuntu bionic/main amd64 python-six all 1.11.0-2 [11.3 kB]\n",
            "Get:5 http://archive.ubuntu.com/ubuntu bionic/main amd64 python-webencodings all 0.5-2 [10.3 kB]\n",
            "Get:6 http://archive.ubuntu.com/ubuntu bionic/main amd64 python-html5lib all 0.999999999-1 [83.6 kB]\n",
            "Get:7 http://archive.ubuntu.com/ubuntu bionic-updates/main amd64 python-lxml amd64 4.2.1-1ubuntu0.1 [1,075 kB]\n",
            "Get:8 http://archive.ubuntu.com/ubuntu bionic/main amd64 python-olefile all 0.45.1-1 [33.2 kB]\n",
            "Get:9 http://archive.ubuntu.com/ubuntu bionic-updates/main amd64 python-pil amd64 5.1.0-1ubuntu0.2 [329 kB]\n",
            "Fetched 1,818 kB in 2s (1,156 kB/s)\n",
            "Selecting previously unselected package python-bs4.\n",
            "(Reading database ... 144467 files and directories currently installed.)\n",
            "Preparing to unpack .../0-python-bs4_4.6.0-1_all.deb ...\n",
            "Unpacking python-bs4 (4.6.0-1) ...\n",
            "Selecting previously unselected package python-pkg-resources.\n",
            "Preparing to unpack .../1-python-pkg-resources_39.0.1-2_all.deb ...\n",
            "Unpacking python-pkg-resources (39.0.1-2) ...\n",
            "Selecting previously unselected package python-chardet.\n",
            "Preparing to unpack .../2-python-chardet_3.0.4-1_all.deb ...\n",
            "Unpacking python-chardet (3.0.4-1) ...\n",
            "Selecting previously unselected package python-six.\n",
            "Preparing to unpack .../3-python-six_1.11.0-2_all.deb ...\n",
            "Unpacking python-six (1.11.0-2) ...\n",
            "Selecting previously unselected package python-webencodings.\n",
            "Preparing to unpack .../4-python-webencodings_0.5-2_all.deb ...\n",
            "Unpacking python-webencodings (0.5-2) ...\n",
            "Selecting previously unselected package python-html5lib.\n",
            "Preparing to unpack .../5-python-html5lib_0.999999999-1_all.deb ...\n",
            "Unpacking python-html5lib (0.999999999-1) ...\n",
            "Selecting previously unselected package python-lxml:amd64.\n",
            "Preparing to unpack .../6-python-lxml_4.2.1-1ubuntu0.1_amd64.deb ...\n",
            "Unpacking python-lxml:amd64 (4.2.1-1ubuntu0.1) ...\n",
            "Selecting previously unselected package python-olefile.\n",
            "Preparing to unpack .../7-python-olefile_0.45.1-1_all.deb ...\n",
            "Unpacking python-olefile (0.45.1-1) ...\n",
            "Selecting previously unselected package python-pil:amd64.\n",
            "Preparing to unpack .../8-python-pil_5.1.0-1ubuntu0.2_amd64.deb ...\n",
            "Unpacking python-pil:amd64 (5.1.0-1ubuntu0.2) ...\n",
            "Setting up python-pkg-resources (39.0.1-2) ...\n",
            "Setting up python-six (1.11.0-2) ...\n",
            "Setting up python-bs4 (4.6.0-1) ...\n",
            "Setting up python-lxml:amd64 (4.2.1-1ubuntu0.1) ...\n",
            "Setting up python-olefile (0.45.1-1) ...\n",
            "Setting up python-pil:amd64 (5.1.0-1ubuntu0.2) ...\n",
            "Setting up python-webencodings (0.5-2) ...\n",
            "Setting up python-chardet (3.0.4-1) ...\n",
            "Setting up python-html5lib (0.999999999-1) ...\n",
            "Processing triggers for man-db (2.8.3-2ubuntu0.1) ...\n"
          ],
          "name": "stdout"
        }
      ]
    },
    {
      "cell_type": "code",
      "metadata": {
        "id": "ZM-yoznFTmbs",
        "colab_type": "code",
        "colab": {
          "base_uri": "https://localhost:8080/",
          "height": 54
        },
        "outputId": "0583458c-1f28-40c3-f12a-199cbcc502c2"
      },
      "source": [
        "!pip install Cython"
      ],
      "execution_count": 2,
      "outputs": [
        {
          "output_type": "stream",
          "text": [
            "Requirement already satisfied: Cython in /usr/local/lib/python3.6/dist-packages (0.29.19)\n"
          ],
          "name": "stdout"
        }
      ]
    },
    {
      "cell_type": "code",
      "metadata": {
        "id": "LR0rVy7GTmet",
        "colab_type": "code",
        "colab": {
          "base_uri": "https://localhost:8080/",
          "height": 134
        },
        "outputId": "24ab17bb-e000-49a1-a70b-b35ea85c351c"
      },
      "source": [
        "!git clone https://github.com/tensorflow/models.git"
      ],
      "execution_count": 3,
      "outputs": [
        {
          "output_type": "stream",
          "text": [
            "Cloning into 'models'...\n",
            "remote: Enumerating objects: 8, done.\u001b[K\n",
            "remote: Counting objects: 100% (8/8), done.\u001b[K\n",
            "remote: Compressing objects: 100% (8/8), done.\u001b[K\n",
            "remote: Total 36500 (delta 1), reused 7 (delta 0), pack-reused 36492\n",
            "Receiving objects: 100% (36500/36500), 520.35 MiB | 32.66 MiB/s, done.\n",
            "Resolving deltas: 100% (24363/24363), done.\n"
          ],
          "name": "stdout"
        }
      ]
    },
    {
      "cell_type": "code",
      "metadata": {
        "id": "PmZzqFTxTmjM",
        "colab_type": "code",
        "colab": {
          "base_uri": "https://localhost:8080/",
          "height": 34
        },
        "outputId": "89938e1d-90ee-45e9-b1e1-9c9c7a4f9ca4"
      },
      "source": [
        "%cd /content/models/research"
      ],
      "execution_count": 4,
      "outputs": [
        {
          "output_type": "stream",
          "text": [
            "/content/models/research\n"
          ],
          "name": "stdout"
        }
      ]
    },
    {
      "cell_type": "code",
      "metadata": {
        "id": "CDxNfRFhTxHQ",
        "colab_type": "code",
        "colab": {
          "base_uri": "https://localhost:8080/",
          "height": 54
        },
        "outputId": "1468fc29-5c0c-400c-90a6-12530cf01f3d"
      },
      "source": [
        "!protoc object_detection/protos/*.proto --python_out=."
      ],
      "execution_count": 5,
      "outputs": [
        {
          "output_type": "stream",
          "text": [
            "object_detection/protos/input_reader.proto: warning: Import object_detection/protos/image_resizer.proto but not used.\n"
          ],
          "name": "stdout"
        }
      ]
    },
    {
      "cell_type": "code",
      "metadata": {
        "id": "8nBC0Vsuk6TF",
        "colab_type": "code",
        "colab": {}
      },
      "source": [
        "!export PYTHONPATH=$PYTHONPATH:`pwd`:`pwd`/slim"
      ],
      "execution_count": 0,
      "outputs": []
    },
    {
      "cell_type": "code",
      "metadata": {
        "id": "lmFJp50pTxKj",
        "colab_type": "code",
        "colab": {
          "base_uri": "https://localhost:8080/",
          "height": 34
        },
        "outputId": "3c2f935e-8786-420c-e3c4-d3be23d92c7d"
      },
      "source": [
        "%set_env PYTHONPATH=/content/models/research:/content/models/research/slim"
      ],
      "execution_count": 37,
      "outputs": [
        {
          "output_type": "stream",
          "text": [
            "env: PYTHONPATH=/content/models/research:/content/models/research/slim\n"
          ],
          "name": "stdout"
        }
      ]
    },
    {
      "cell_type": "markdown",
      "metadata": {
        "id": "QUrtZVsXUUMn",
        "colab_type": "text"
      },
      "source": [
        ""
      ]
    },
    {
      "cell_type": "code",
      "metadata": {
        "id": "8SvoJfweTxOH",
        "colab_type": "code",
        "colab": {
          "base_uri": "https://localhost:8080/",
          "height": 289
        },
        "outputId": "7ebed9a3-5a78-409a-8fe5-b1f5b9f336f1"
      },
      "source": [
        "!python object_detection/builders/model_builder_test.py"
      ],
      "execution_count": 38,
      "outputs": [
        {
          "output_type": "stream",
          "text": [
            "2020-06-03 23:46:16.579872: I tensorflow/stream_executor/platform/default/dso_loader.cc:44] Successfully opened dynamic library libcudart.so.10.1\n",
            "Traceback (most recent call last):\n",
            "  File \"object_detection/builders/model_builder_test.py\", line 21, in <module>\n",
            "    from object_detection.builders import model_builder\n",
            "  File \"/content/models/research/object_detection/builders/model_builder.py\", line 19, in <module>\n",
            "    from object_detection.builders import anchor_generator_builder\n",
            "  File \"/content/models/research/object_detection/builders/anchor_generator_builder.py\", line 23, in <module>\n",
            "    from object_detection.anchor_generators import flexible_grid_anchor_generator\n",
            "  File \"/content/models/research/object_detection/anchor_generators/flexible_grid_anchor_generator.py\", line 19, in <module>\n",
            "    from object_detection.anchor_generators import grid_anchor_generator\n",
            "  File \"/content/models/research/object_detection/anchor_generators/grid_anchor_generator.py\", line 27, in <module>\n",
            "    from object_detection.utils import ops\n",
            "  File \"/content/models/research/object_detection/utils/ops.py\", line 28, in <module>\n",
            "    import tf_slim as slim\n",
            "ModuleNotFoundError: No module named 'tf_slim'\n"
          ],
          "name": "stdout"
        }
      ]
    },
    {
      "cell_type": "code",
      "metadata": {
        "id": "1WeKiDdLT8oK",
        "colab_type": "code",
        "colab": {
          "base_uri": "https://localhost:8080/",
          "height": 538
        },
        "outputId": "5766748b-ca77-431b-8570-b5e27c77258b"
      },
      "source": [
        "!dir"
      ],
      "execution_count": 12,
      "outputs": [
        {
          "output_type": "stream",
          "text": [
            "a3c_blogpost\t\t\t  lm_1b\n",
            "adversarial_crypto\t\t  lm_commonsense\n",
            "adversarial_logit_pairing\t  lstm_object_detection\n",
            "adversarial_text\t\t  marco\n",
            "adv_imagenet_models\t\t  maskgan\n",
            "attention_ocr\t\t\t  namignizer\n",
            "audioset\t\t\t  neural_gpu\n",
            "autoaugment\t\t\t  neural_programmer\n",
            "autoencoder\t\t\t  next_frame_prediction\n",
            "brain_coder\t\t\t  nst_blogpost\n",
            "cognitive_mapping_and_planning\t  object_detection\n",
            "cognitive_planning\t\t  pcl_rl\n",
            "compression\t\t\t  ptn\n",
            "cvt_text\t\t\t  qa_kg\n",
            "deep_contextual_bandits\t\t  README.md\n",
            "deeplab\t\t\t\t  real_nvp\n",
            "deep_speech\t\t\t  rebar\n",
            "delf\t\t\t\t  sentiment_analysis\n",
            "domain_adaptation\t\t  seq2species\n",
            "efficient-hrl\t\t\t  setup.py\n",
            "feelvos\t\t\t\t  skip_thoughts\n",
            "fivo\t\t\t\t  slim\n",
            "global_objectives\t\t  steve\n",
            "im2txt\t\t\t\t  street\n",
            "inception\t\t\t  struct2depth\n",
            "keypointnet\t\t\t  swivel\n",
            "learned_optimizer\t\t  tcn\n",
            "learning_to_remember_rare_events  textsum\n",
            "learning_unsupervised_learning\t  transformer\n",
            "lexnet_nc\t\t\t  vid2depth\n",
            "lfads\t\t\t\t  video_prediction\n"
          ],
          "name": "stdout"
        }
      ]
    },
    {
      "cell_type": "markdown",
      "metadata": {
        "id": "h43X4QXyVnYb",
        "colab_type": "text"
      },
      "source": [
        "Create tensor record\n"
      ]
    },
    {
      "cell_type": "code",
      "metadata": {
        "id": "5A2lhw85T8uT",
        "colab_type": "code",
        "colab": {}
      },
      "source": [
        "#object_detection/dataset_tools/create_pascal_tf_record.py --data_dir=/content/dataset --annotations_dir=/content/dataset/Annotations --output_path=/content/dataset/train.record --label_map_path=/content/dataset/label.pbtxt"
      ],
      "execution_count": 0,
      "outputs": []
    },
    {
      "cell_type": "code",
      "metadata": {
        "id": "pVOyc7PdT8r9",
        "colab_type": "code",
        "colab": {}
      },
      "source": [
        "!cd object_detection/dataset_tools/"
      ],
      "execution_count": 0,
      "outputs": []
    },
    {
      "cell_type": "code",
      "metadata": {
        "id": "bEIuUQTlcSoB",
        "colab_type": "code",
        "colab": {
          "base_uri": "https://localhost:8080/",
          "height": 538
        },
        "outputId": "15ba0eb1-6615-4ab2-8fd8-90dd7d39f7ad"
      },
      "source": [
        "!dir"
      ],
      "execution_count": 43,
      "outputs": [
        {
          "output_type": "stream",
          "text": [
            "a3c_blogpost\t\t\t  lm_1b\n",
            "adversarial_crypto\t\t  lm_commonsense\n",
            "adversarial_logit_pairing\t  lstm_object_detection\n",
            "adversarial_text\t\t  marco\n",
            "adv_imagenet_models\t\t  maskgan\n",
            "attention_ocr\t\t\t  namignizer\n",
            "audioset\t\t\t  neural_gpu\n",
            "autoaugment\t\t\t  neural_programmer\n",
            "autoencoder\t\t\t  next_frame_prediction\n",
            "brain_coder\t\t\t  nst_blogpost\n",
            "cognitive_mapping_and_planning\t  object_detection\n",
            "cognitive_planning\t\t  pcl_rl\n",
            "compression\t\t\t  ptn\n",
            "cvt_text\t\t\t  qa_kg\n",
            "deep_contextual_bandits\t\t  README.md\n",
            "deeplab\t\t\t\t  real_nvp\n",
            "deep_speech\t\t\t  rebar\n",
            "delf\t\t\t\t  sentiment_analysis\n",
            "domain_adaptation\t\t  seq2species\n",
            "efficient-hrl\t\t\t  setup.py\n",
            "feelvos\t\t\t\t  skip_thoughts\n",
            "fivo\t\t\t\t  slim\n",
            "global_objectives\t\t  steve\n",
            "im2txt\t\t\t\t  street\n",
            "inception\t\t\t  struct2depth\n",
            "keypointnet\t\t\t  swivel\n",
            "learned_optimizer\t\t  tcn\n",
            "learning_to_remember_rare_events  textsum\n",
            "learning_unsupervised_learning\t  transformer\n",
            "lexnet_nc\t\t\t  vid2depth\n",
            "lfads\t\t\t\t  video_prediction\n"
          ],
          "name": "stdout"
        }
      ]
    },
    {
      "cell_type": "code",
      "metadata": {
        "id": "QjAVw9UaTmZ7",
        "colab_type": "code",
        "colab": {
          "base_uri": "https://localhost:8080/",
          "height": 148
        },
        "outputId": "ca48919f-7737-4916-e68a-3e2003c96dcc"
      },
      "source": [
        "object_detection/dataset_tools/create_pascal_tf_record.py --data_dir=content/dataset --annotations_dir=content/dataset/Annotations --output_path=content/dataset/train.record --label_map_path=content/dataset/label.pbtxt"
      ],
      "execution_count": 44,
      "outputs": [
        {
          "output_type": "error",
          "ename": "SyntaxError",
          "evalue": "ignored",
          "traceback": [
            "\u001b[0;36m  File \u001b[0;32m\"<ipython-input-44-db244e345a72>\"\u001b[0;36m, line \u001b[0;32m1\u001b[0m\n\u001b[0;31m    object_detection/dataset_tools/create_pascal_tf_record.py --data_dir=content/dataset --annotations_dir=content/dataset/Annotations --output_path=content/dataset/train.record --label_map_path=content/dataset/label.pbtxt\u001b[0m\n\u001b[0m                                                                                                                                                                                                                              ^\u001b[0m\n\u001b[0;31mSyntaxError\u001b[0m\u001b[0;31m:\u001b[0m can't assign to operator\n"
          ]
        }
      ]
    },
    {
      "cell_type": "code",
      "metadata": {
        "id": "aV12iudZcTMI",
        "colab_type": "code",
        "colab": {
          "base_uri": "https://localhost:8080/",
          "height": 538
        },
        "outputId": "1a05d5d6-51c0-4d2d-f1be-0c60f397a04f"
      },
      "source": [
        "!dir"
      ],
      "execution_count": 30,
      "outputs": [
        {
          "output_type": "stream",
          "text": [
            "a3c_blogpost\t\t\t  lm_1b\n",
            "adversarial_crypto\t\t  lm_commonsense\n",
            "adversarial_logit_pairing\t  lstm_object_detection\n",
            "adversarial_text\t\t  marco\n",
            "adv_imagenet_models\t\t  maskgan\n",
            "attention_ocr\t\t\t  namignizer\n",
            "audioset\t\t\t  neural_gpu\n",
            "autoaugment\t\t\t  neural_programmer\n",
            "autoencoder\t\t\t  next_frame_prediction\n",
            "brain_coder\t\t\t  nst_blogpost\n",
            "cognitive_mapping_and_planning\t  object_detection\n",
            "cognitive_planning\t\t  pcl_rl\n",
            "compression\t\t\t  ptn\n",
            "cvt_text\t\t\t  qa_kg\n",
            "deep_contextual_bandits\t\t  README.md\n",
            "deeplab\t\t\t\t  real_nvp\n",
            "deep_speech\t\t\t  rebar\n",
            "delf\t\t\t\t  sentiment_analysis\n",
            "domain_adaptation\t\t  seq2species\n",
            "efficient-hrl\t\t\t  setup.py\n",
            "feelvos\t\t\t\t  skip_thoughts\n",
            "fivo\t\t\t\t  slim\n",
            "global_objectives\t\t  steve\n",
            "im2txt\t\t\t\t  street\n",
            "inception\t\t\t  struct2depth\n",
            "keypointnet\t\t\t  swivel\n",
            "learned_optimizer\t\t  tcn\n",
            "learning_to_remember_rare_events  textsum\n",
            "learning_unsupervised_learning\t  transformer\n",
            "lexnet_nc\t\t\t  vid2depth\n",
            "lfads\t\t\t\t  video_prediction\n"
          ],
          "name": "stdout"
        }
      ]
    },
    {
      "cell_type": "code",
      "metadata": {
        "id": "MfVIKX-jcTQq",
        "colab_type": "code",
        "colab": {
          "base_uri": "https://localhost:8080/",
          "height": 148
        },
        "outputId": "ab760922-a700-4413-b3ee-574f59fa3992"
      },
      "source": [
        "object_detection/dataset_tools/create_pascal_tf_record.py --data_dir=content/dataset --annotations_dir=content/dataset/Annotations --output_path=content/dataset/train.record --label_map_path=\"content/dataset/label.pbtxt\""
      ],
      "execution_count": 34,
      "outputs": [
        {
          "output_type": "error",
          "ename": "SyntaxError",
          "evalue": "ignored",
          "traceback": [
            "\u001b[0;36m  File \u001b[0;32m\"<ipython-input-34-22432db92f27>\"\u001b[0;36m, line \u001b[0;32m1\u001b[0m\n\u001b[0;31m    object_detection/dataset_tools/create_pascal_tf_record.py --data_dir=content/dataset --annotations_dir=content/dataset/Annotations --output_path=content/dataset/train.record --label_map_path=\"content/dataset/label.pbtxt\"\u001b[0m\n\u001b[0m                                                                                                                                                                                                                                ^\u001b[0m\n\u001b[0;31mSyntaxError\u001b[0m\u001b[0;31m:\u001b[0m can't assign to operator\n"
          ]
        }
      ]
    },
    {
      "cell_type": "code",
      "metadata": {
        "id": "4ddN6xS_cTYo",
        "colab_type": "code",
        "colab": {
          "base_uri": "https://localhost:8080/",
          "height": 128
        },
        "outputId": "060693b4-e912-4168-a651-77dfddcd89b2"
      },
      "source": [
        ""
      ],
      "execution_count": 35,
      "outputs": [
        {
          "output_type": "error",
          "ename": "SyntaxError",
          "evalue": "ignored",
          "traceback": [
            "\u001b[0;36m  File \u001b[0;32m\"<ipython-input-35-dabaaa0aeb70>\"\u001b[0;36m, line \u001b[0;32m1\u001b[0m\n\u001b[0;31m    protoc object_detection/protos/*.proto --python_out=.\u001b[0m\n\u001b[0m                          ^\u001b[0m\n\u001b[0;31mSyntaxError\u001b[0m\u001b[0;31m:\u001b[0m invalid syntax\n"
          ]
        }
      ]
    },
    {
      "cell_type": "code",
      "metadata": {
        "id": "TSjSbJ2jcTWy",
        "colab_type": "code",
        "colab": {}
      },
      "source": [
        ""
      ],
      "execution_count": 0,
      "outputs": []
    }
  ]
}